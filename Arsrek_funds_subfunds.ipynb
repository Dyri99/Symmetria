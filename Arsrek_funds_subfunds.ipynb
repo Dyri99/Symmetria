{
 "cells": [
  {
   "cell_type": "markdown",
   "id": "88d21824",
   "metadata": {},
   "source": []
  },
  {
   "cell_type": "code",
   "execution_count": 55,
   "id": "8177f8ee",
   "metadata": {},
   "outputs": [
    {
     "data": {
      "text/plain": [
       "PostgreSQL connection (CONNECTION_OK) with parameters:\n",
       "  user = postgres\n",
       "  password = ********************\n",
       "  channel_binding = prefer\n",
       "  dbname = Symmetria\n",
       "  port = 5432\n",
       "  client_encoding = UTF8\n",
       "  options = -c DateStyle=ISO,YMD -c IntervalStyle=iso_8601 -c TimeZone=UTC\n",
       "  application_name = LibPQ.jl\n",
       "  sslmode = prefer\n",
       "  sslcompression = 0\n",
       "  sslsni = 1\n",
       "  ssl_min_protocol_version = TLSv1.2\n",
       "  gssencmode = disable\n",
       "  krbsrvname = postgres\n",
       "  target_session_attrs = any"
      ]
     },
     "metadata": {},
     "output_type": "display_data"
    }
   ],
   "source": [
    "regex_key = [r\".*(A|a)llianz.*\",r\".*Almenni.*\",r\".*VÍB.*\",r\".*(A|a)rion.*\",r\"(b|B)ayern\",r\".*Birta.*\",r\".*(B|b)rú.*\",r\"Eftirlaunasj.*\\sLandsb(anka|\\.) (og|&) Seðlabanka\",r\"Eftirlaunasj.*(Sláturf(él|.)).*(Suðurlands).*\",r\"Eftirlaunasj(\\.|óður)(\\s|)(s|S)tarfsm(\\.|anna|m\\.)(\\s|)Íslandsb(\\.|anka)(\\s(h|H)f\\.|).*\",r\".*Glitn.*\",r\"Eftirlaunasj.*(Hafnarfj).*(kaupst\\.|kaupstaðar|arðk\\.|arðark\\.)\",r\"Eftirlaunasj.*(|\\n)(Olí|OLÍ).*\",r\"(EFÍA|Eftir(-|)launa(-|-\\s|)sj(\\.|\\s|óður)(\\s|\\s\\s|)(atvinnuflugmanna|FÍA))\",r\"Eftirlaunasj.*Reykjanes(-|-\\s|)bæjar\",r\".*Eftirlaunasj.*(\\s|)slökkvil.* á(\\s|)Keflav.*\",r\"Eftirl.*\\s*(starfsm|stm).*\\s*(Ú|ú)tvegsb.*\\s*Ísl.*\",r\".*Festa.*\",r\".*Frjálsi.*\",r\".*(G|g)ildi.*\",r\".*(Í|í)slandsbanki.*\",r\".*Íslenski.*\",r\"(Kjölur lífeyris).*\",r\".*(K|k)vika.*\",r\".*(L|l)andsbankinn.*\",r\"Lífeyris(-sjóður|sjóður|sj)(\\s|\\.|\\.\\s)(l|L)ækna.*\",r\"Lífeyris(-|)(sj\\.|sjóður )(\\n|\\s|)Suðurlands\",r\"(Lífeyris).*(sjóðurinn).*(Skjöldur)\",r\".*Eining.*\",r\".*Hlíf.*\",r\".*(Akranes(-|-\\s|)kaupst).*\",r\"(L|l)ífeyrissj.*(\\.|\\s)(Bolungar).*\",r\"(Lífeyris).*(sj).*(Eimskipa).*\",r\"Lífeyrissj.*ísl.*stjst.* á Kefl.{0,1}v.{0,4}flugv.*\",r\".*((\\.|\\s)Nes(-|)kaup).*(\\.|staðar)\",r\".*(Húsa(-|-\\s|)víkur(k|k\\.|-|))(\\.|aupstaðar|bæjar|).*\",r\".*Lífeyris(-|)(sj\\.|sjóður )(\\s|)(stm\\.|starfsm\\.|starfsmanna)\\sR(eykjavíkur|vík\\.)(-|-\\s|)apóteks.*\",r\"Lífeyrissj(\\.|óður\\s)(\\s|)(stm|starfsmanna|starfsm\\.)(\\.\\s|\\s|)Vestm.*eyja(\\s|b\\.|bæjar|-bæjar)\",r\".*(A|a)rkitekta.*(T|t)æknifr.*\",r\".*K\\.E\\.A\\..*\",r\".*Líf.*(V|v)erkal.*fél\\.(\\sá\\s|\\s|)Norðurl\\. v.*\",r\"Lífeyrissj.* alþingis(-\\s|)manna.*\",r\"Lífeyris(-|-\\s|)sjóður Arkitekta\",r\"(L|l)ífeyris(-|)sj(\\.|óður )(\\s|)(Austur(-|-\\s|)lands).*\",r\".*(B|b)ænda.*\",r\".*Lífeyrissj.*(b|B)anka(-|-\\s|)m.*\",r\".*(B|b)laða(-\\s|)manna.*\",r\"(l|L)ífeyrissj.*(F|f)élags.*ísl.*leikara\",r\"(L|l)ífeyrissj.*(\\.|\\s)(Flugvirkja(-f|fé|f.)).*\",r\".*(L|l)íf.+(H|h)júkrunar(-|-\\s|)fræðinga.*\",r\"Lífeyrissj.*Iðnaðarm.*Suðurnesja\",r\".*(L|l)eigubifr.*\",r\"(L|l)ífeyrissj.*(\\.|\\s).*(Mjólkur).*\",r\"(L|l)ífeyrissj.*(\\.|\\s)(Norður(-|-\\s|)(lands|))\",r\"Lífeyrissj.* ráðherra\",r\"Lífeyris(-|)sj(\\.|óður\\s)(\\s|)Rang(\\.|æinga)\",r\".*(S|s)jómanna.*\",r\".*(S|s)jóvá.*\",r\"Lífeyrissj(óður|\\.\\s|\\.)(\\s|\\.|)(stm\\.|starfsm)(anna\\s|\\s|\\.\\s)Akur(-|-\\s|)eyrar(b\\.|bæjar)\",r\".*(B|b)únaðar.*\",r\".*Lífeyrissj(óður|\\.)(\\s|)(stm\\.|starfsm\\.|starfsmanna)\\sKópa(-|-\\s|)vogs(b\\.|bæjar|kaupst).*\",r\".*Lífeyris(sjóður|-sjóður|sj\\.)(\\s|\\.|)((S|s)tm\\.\\s|(S|s)tarfsmanna|(S|s)tarfsm\\.)(\\s|)Reykjav(íkurb\\.|b\\.|íkurborgar|\\.).*\",r\"(Lífeyrissj.*(starfsm(\\.|anna)|\\.(\\s|)st\\.|\\.\\sst\\.m\\.|stm\\.)\\s(R|r)íkisins|.*LSR.*)\",r\"Lífeyriss(s|)j(óður|\\.)(\\s|)(s|S)t.*(\\s|\\.|)(s|S)veitarfél(\\.|aga)\",r\".*(Áburðarv(.|e)).*\",r\"Lífeyrissj(\\.|óður)(\\s|)Suður(-|-\\s|)nesja\",r\"Lífeyrissj.*Tæknifr.* Íslands\",r\".*(Tannl|tannl).*\",r\".*Grindavík.*\",r\"Lífeyrissj.*verkal.* á Suðurl(andi|\\.)\",r\".*(Lífeyrissj).*((V|v)erk.*)fr.*\",r\".*((L|l)íf[a-z. óð]*Versl|(L|l)íf[a-z. óð]*versl).*\",r\"Lífeyrissj(óður|\\.)((\\s|)Vest(-\\s|-\\s\\s|-|)firðinga)\",r\".*Lífeyrissj(\\.|óður)(\\s|)Vestm(\\.|(anna(-|-\\s|)eyja)).*\",r\".*Lífeyris(-|)(sj\\.|sjóður)(\\s|)Vestur(-|-\\s|)lands.*\",r\".*Framsýn.*\",r\"(L|l)ífey.*(\\.|\\s)(Lífiðn)+\",r\".*Lífsval.*\",r\".*(L|l)ífsverk.*\",r\"Sameinaði(\\s|)lífeyris(-|-\\s|)sjóðurinn\",r\".*(S|s)amvinnu(-|).*\",r\".*Séreigna.*lífeyris.*sjóðurinn.*\",r\"(S|s)öfnunarsj(\\.\\s|\\.|óður\\s)(lífeyris(-|)réttinda|)\",r\".*Stafir.*\",r\".*(S|s)tapi.*\",r\".*Trygginga.*sjóður.*lækna.*\",]\n",
    "\n",
    "using LibPQ, DataFrames, XLSX\n",
    "\n",
    "\n",
    "file = open(\"login_for_sql.txt\", \"r\")\n",
    "# Read the data from the file into a matrix\n",
    "username = readline(file)\n",
    "pass = readline(file)\n",
    "# Close the file\n",
    "close(file)\n",
    "\n",
    "\n",
    "conn = LibPQ.Connection(\"dbname=Symmetria user=$username password=$pass\")\n"
   ]
  },
  {
   "cell_type": "code",
   "execution_count": 56,
   "id": "4f2cde8e",
   "metadata": {},
   "outputs": [
    {
     "data": {
      "text/plain": [
       "rawdata_SF (generic function with 1 method)"
      ]
     },
     "metadata": {},
     "output_type": "display_data"
    }
   ],
   "source": [
    "using XLSX, DataFrames\n",
    "\n",
    "sheet_name = \"SF\"\n",
    "\n",
    "function read_column(sheet, firstrow, col)\n",
    "    res = []\n",
    "    row = firstrow\n",
    "    while !ismissing(sheet[row,col])\n",
    "        push!(res,sheet[row,col])\n",
    "        row+=1\n",
    "    end \n",
    "    return res\n",
    "end\n",
    "\n",
    "function rawdata_SF(xf)\n",
    "    sheet = xf[sheet_name]\n",
    "\n",
    "    firstrow = 2\n",
    "    col = 1\n",
    "    fundname = read_column(sheet, firstrow, col)\n",
    "\n",
    "    col = 2\n",
    "    shortname = read_column(sheet, firstrow, col)\n",
    "\n",
    "    col = 3\n",
    "    subfundname = read_column(sheet, firstrow, col)\n",
    "\n",
    "    col = 4\n",
    "    subfundtype = read_column(sheet, firstrow, col)\n",
    "\n",
    "    rawdata = DataFrame(fundname = fundname, shortname = shortname, \n",
    "            subfundname = subfundname, subfundtype = subfundtype)\n",
    "    return rawdata\n",
    "end"
   ]
  },
  {
   "attachments": {},
   "cell_type": "markdown",
   "id": "0f1a6867",
   "metadata": {},
   "source": [
    "<h1>Funds for 2021 to 1997</h1>"
   ]
  },
  {
   "cell_type": "code",
   "execution_count": 57,
   "id": "af8e813f",
   "metadata": {},
   "outputs": [
    {
     "name": "stdout",
     "output_type": "stream",
     "text": [
      "2021\n"
     ]
    },
    {
     "name": "stdout",
     "output_type": "stream",
     "text": [
      "2020\n"
     ]
    },
    {
     "name": "stdout",
     "output_type": "stream",
     "text": [
      "2019\n"
     ]
    },
    {
     "name": "stdout",
     "output_type": "stream",
     "text": [
      "2018\n"
     ]
    },
    {
     "name": "stdout",
     "output_type": "stream",
     "text": [
      "2017\n"
     ]
    },
    {
     "name": "stdout",
     "output_type": "stream",
     "text": [
      "2016\n"
     ]
    },
    {
     "name": "stdout",
     "output_type": "stream",
     "text": [
      "2015\n"
     ]
    },
    {
     "name": "stdout",
     "output_type": "stream",
     "text": [
      "2014\n"
     ]
    },
    {
     "name": "stdout",
     "output_type": "stream",
     "text": [
      "2013\n"
     ]
    },
    {
     "name": "stdout",
     "output_type": "stream",
     "text": [
      "2012\n"
     ]
    },
    {
     "name": "stdout",
     "output_type": "stream",
     "text": [
      "2011\n"
     ]
    },
    {
     "name": "stdout",
     "output_type": "stream",
     "text": [
      "2010\n"
     ]
    },
    {
     "name": "stdout",
     "output_type": "stream",
     "text": [
      "2009\n"
     ]
    },
    {
     "name": "stdout",
     "output_type": "stream",
     "text": [
      "2008\n"
     ]
    },
    {
     "name": "stdout",
     "output_type": "stream",
     "text": [
      "2007\n"
     ]
    },
    {
     "name": "stdout",
     "output_type": "stream",
     "text": [
      "2006\n"
     ]
    },
    {
     "name": "stdout",
     "output_type": "stream",
     "text": [
      "2005\n"
     ]
    },
    {
     "name": "stdout",
     "output_type": "stream",
     "text": [
      "2004\n"
     ]
    },
    {
     "name": "stdout",
     "output_type": "stream",
     "text": [
      "2003\n"
     ]
    },
    {
     "name": "stdout",
     "output_type": "stream",
     "text": [
      "2002\n"
     ]
    },
    {
     "name": "stdout",
     "output_type": "stream",
     "text": [
      "2001\n"
     ]
    },
    {
     "name": "stdout",
     "output_type": "stream",
     "text": [
      "2000\n"
     ]
    },
    {
     "name": "stdout",
     "output_type": "stream",
     "text": [
      "1999\n"
     ]
    },
    {
     "name": "stdout",
     "output_type": "stream",
     "text": [
      "1998\n"
     ]
    },
    {
     "name": "stdout",
     "output_type": "stream",
     "text": [
      "1997\n"
     ]
    }
   ],
   "source": [
    "\n",
    "for year in 2021:-1:1997\n",
    "    println(year)\n",
    "    path = \"skjölin frá Birgi/Files/Arsreikningar-lifeyrissjoda_$(year).xlsx\"\n",
    "    xf = XLSX.readxlsx(path)\n",
    "    rawdata = rawdata_SF(xf)\n",
    "\n",
    "    # Add fund data for this year to funds\n",
    "    funds = combine(groupby(rawdata,[:fundname,:shortname]),nrow)[:,[:fundname,:shortname]]\n",
    "    funds.fundid .= collect(1:nrow(funds))\n",
    "    funds.regexp .= string()\n",
    "\n",
    "    for fund in funds.fundname\n",
    "        for reg in regex_key\n",
    "            m = match(reg, fund)\n",
    "            if isnothing(m)\n",
    "                #println(\"$fund, No match!\")\n",
    "            else\n",
    "                row_idx = findfirst(funds.fundname .== fund)\n",
    "                reg_string = string(reg)[3:end-1]\n",
    "                funds[row_idx, :regexp] = reg_string\n",
    "            end\n",
    "        end\n",
    "    end \n",
    "\n",
    "    # Loop through each new fund and insert it into the database\n",
    "    execute(conn, \"BEGIN;\")\n",
    "    for fund in eachrow(funds)\n",
    "        # Check if the fund already exists in the database\n",
    "        result = execute(conn, \"SELECT * FROM fund WHERE regex_keyword = '$(fund.regexp)'\") |> DataFrame\n",
    "        if nrow(result) > 0\n",
    "            nothing\n",
    "        else\n",
    "            # Insert the new fund into the database\n",
    "            execute(conn, \"INSERT INTO fund (fund_name, short_name, regex_keyword) VALUES ('$(fund.fundname)', '$(fund.shortname)', '$(fund.regexp)');\")\n",
    "            #println(\"$(fund.shortname) added to the database\")\n",
    "        end\n",
    "    end\n",
    "    execute(conn, \"COMMIT;\")\n",
    "end\n"
   ]
  },
  {
   "cell_type": "code",
   "execution_count": 14,
   "id": "5d86fba4",
   "metadata": {},
   "outputs": [
    {
     "name": "stdout",
     "output_type": "stream",
     "text": [
      "2021\n"
     ]
    },
    {
     "name": "stdout",
     "output_type": "stream",
     "text": [
      "subfunds insert er buid\n",
      "2020\n"
     ]
    },
    {
     "name": "stdout",
     "output_type": "stream",
     "text": [
      "subfunds insert er buid\n",
      "2019\n"
     ]
    },
    {
     "name": "stdout",
     "output_type": "stream",
     "text": [
      "subfunds insert er buid\n",
      "2018\n"
     ]
    },
    {
     "name": "stdout",
     "output_type": "stream",
     "text": [
      "subfunds insert er buid\n",
      "2017\n"
     ]
    },
    {
     "name": "stdout",
     "output_type": "stream",
     "text": [
      "subfunds insert er buid\n",
      "2016\n"
     ]
    },
    {
     "name": "stdout",
     "output_type": "stream",
     "text": [
      "subfunds insert er buid\n",
      "2015\n"
     ]
    },
    {
     "name": "stdout",
     "output_type": "stream",
     "text": [
      "subfunds insert er buid\n",
      "2014\n"
     ]
    },
    {
     "name": "stdout",
     "output_type": "stream",
     "text": [
      "subfunds insert er buid\n",
      "2013\n"
     ]
    },
    {
     "name": "stdout",
     "output_type": "stream",
     "text": [
      "subfunds insert er buid\n",
      "2012\n"
     ]
    },
    {
     "name": "stdout",
     "output_type": "stream",
     "text": [
      "subfunds insert er buid\n",
      "2011\n"
     ]
    },
    {
     "name": "stdout",
     "output_type": "stream",
     "text": [
      "subfunds insert er buid\n",
      "2010\n"
     ]
    },
    {
     "name": "stdout",
     "output_type": "stream",
     "text": [
      "subfunds insert er buid\n",
      "2009\n"
     ]
    },
    {
     "name": "stdout",
     "output_type": "stream",
     "text": [
      "subfunds insert er buid\n",
      "2008\n"
     ]
    },
    {
     "name": "stdout",
     "output_type": "stream",
     "text": [
      "subfunds insert er buid\n",
      "2007\n"
     ]
    },
    {
     "name": "stdout",
     "output_type": "stream",
     "text": [
      "subfunds insert er buid\n",
      "2006\n"
     ]
    },
    {
     "name": "stdout",
     "output_type": "stream",
     "text": [
      "subfunds insert er buid\n",
      "2005\n"
     ]
    },
    {
     "name": "stdout",
     "output_type": "stream",
     "text": [
      "subfunds insert er buid\n",
      "2004\n"
     ]
    },
    {
     "name": "stdout",
     "output_type": "stream",
     "text": [
      "subfunds insert er buid\n",
      "2003\n"
     ]
    },
    {
     "name": "stdout",
     "output_type": "stream",
     "text": [
      "subfunds insert er buid\n",
      "2002\n"
     ]
    },
    {
     "name": "stdout",
     "output_type": "stream",
     "text": [
      "subfunds insert er buid\n",
      "2001\n"
     ]
    },
    {
     "name": "stdout",
     "output_type": "stream",
     "text": [
      "subfunds insert er buid\n",
      "2000\n"
     ]
    },
    {
     "name": "stdout",
     "output_type": "stream",
     "text": [
      "subfunds insert er buid\n",
      "1999\n"
     ]
    },
    {
     "name": "stdout",
     "output_type": "stream",
     "text": [
      "subfunds insert er buid\n",
      "1998\n"
     ]
    },
    {
     "name": "stdout",
     "output_type": "stream",
     "text": [
      "subfunds insert er buid\n",
      "1997\n"
     ]
    },
    {
     "name": "stdout",
     "output_type": "stream",
     "text": [
      "subfunds insert er buid\n"
     ]
    }
   ],
   "source": [
    "function insert_subfunds(sheet::DataFrame)\n",
    "    # Loop through each row in the value matrix and insert the data into the PostgreSQL database\n",
    "    for row in 2:size(sheet, 1)\n",
    "        for col in 1:size(sheet, 2)\n",
    "            fund_name    = sheet[row, 1]\n",
    "            short_name   = sheet[row, 2]\n",
    "            subfund_name = sheet[row, 3]\n",
    "            fundtype     = sheet[row, 4]\n",
    "            \n",
    "            reg_string = \"\"\n",
    "            fund_id = -100\n",
    "            \n",
    "            for reg in regex_key\n",
    "                if !isnothing(match(reg, fund_name))\n",
    "                    reg_string = string(reg)[3:end-1]\n",
    "                    result = execute(conn, \"SELECT fund_id FROM fund WHERE regex_keyword = '$reg_string' or short_name = '$fund_name' or fund_name = '$fund_name'\") |> DataFrame\n",
    "                    if size(result,1) == 0\n",
    "                        error(\"Fann ekki fund_id í gagnagrunni fyrir : $reg_string, fund_name er : $fund_name\")\n",
    "                    end\n",
    "                    fund_id = result[1,1]\n",
    "                    break\n",
    "                end\n",
    "            end\n",
    "            \n",
    "            if fund_id == -100\n",
    "                error(\"no fund_id found for : $fund_name\")\n",
    "            else\n",
    "                result = execute(conn, \"SELECT subfund_id FROM subfund WHERE fund_id = $fund_id and subfund_name = '$subfund_name'\") |> DataFrame\n",
    "                if size(result,1) == 0\n",
    "                    sql = \"INSERT INTO public.subfund(fund_id, short_name, subfund_type, regex_keyword, subfund_name) VALUES ($fund_id, '$short_name', '$fundtype', '$reg_string', '$subfund_name');\"\n",
    "                    execute(conn, sql)\n",
    "                end\n",
    "            end\n",
    "        end\n",
    "    end\n",
    "end\n",
    "\n",
    "dir_path = \"./skjölin frá Birgi/Files/\"\n",
    "\n",
    "# Loop through each Excel file in the directory\n",
    "for year in 2021:-1:1997\n",
    "    println(year)\n",
    "    filename = \"Arsreikningar-lifeyrissjoda_$year.xlsx\"\n",
    "    filepath = joinpath(dir_path, filename)\n",
    "    \n",
    "    SF = DataFrame(XLSX.readtable(filepath, \"SF\", header = false))\n",
    "    \n",
    "    insert_subfunds(SF)\n",
    "    println(\"subfunds insert er buid\")\n",
    "\n",
    "end\n",
    "\n",
    "\n"
   ]
  },
  {
   "attachments": {},
   "cell_type": "markdown",
   "id": "7843317e",
   "metadata": {},
   "source": [
    "<h1>Actions Table</h1>"
   ]
  },
  {
   "cell_type": "code",
   "execution_count": 53,
   "id": "2bd9f20c",
   "metadata": {},
   "outputs": [
    {
     "data": {
      "text/html": [
       "<div><div style = \"float: left;\"><span>0×0 DataFrame</span></div><div style = \"clear: both;\"></div></div><div class = \"data-frame\" style = \"overflow-x: scroll;\"><table class = \"data-frame\" style = \"margin-bottom: 6px;\"></table></div>"
      ],
      "text/latex": [
       "\\begin{tabular}{r|}\n",
       "\t& \\\\\n",
       "\t\\hline\n",
       "\t& \\\\\n",
       "\t\\hline\n",
       "\\end{tabular}\n"
      ],
      "text/plain": [
       "\u001b[1m0×0 DataFrame\u001b[0m"
      ]
     },
     "metadata": {},
     "output_type": "display_data"
    }
   ],
   "source": [
    "action_type = [\"A\", \"M\", \"Q\"]\n",
    "description = [\"Active\", \"Merge\", \"Quit\"]\n",
    "\n",
    "\n",
    "result = execute(conn, \"SELECT * FROM Actions\") |> DataFrame\n",
    "\n",
    "execute(conn, \"BEGIN;\")\n",
    "\n",
    "LibPQ.load!(\n",
    "    (action_type = action_type, description = description),\n",
    "    conn,\n",
    "    \"INSERT INTO actions (action_type,description) VALUES (\\$1,\\$2);\",\n",
    ")\n",
    "result = execute(conn, \"COMMIT;\") |> DataFrame \n"
   ]
  },
  {
   "attachments": {},
   "cell_type": "markdown",
   "id": "efa59a97",
   "metadata": {},
   "source": [
    "<h1>Fund history</h1>"
   ]
  },
  {
   "cell_type": "code",
   "execution_count": 54,
   "id": "cf30dcf1",
   "metadata": {},
   "outputs": [],
   "source": [
    "using XLSX, DataFrames\n",
    "using LibPQ\n",
    "\n",
    "\n",
    "\n",
    "function read_column(sheet, firstrow, col)\n",
    "    res = []\n",
    "    row = firstrow\n",
    "    while !ismissing(sheet[row,col])\n",
    "        push!(res,sheet[row,col])\n",
    "        row+=1\n",
    "    end \n",
    "    return res\n",
    "end\n",
    "\n",
    "function rawdata_history(xf)\n",
    "    sheet_name = \"EST\"\n",
    "    sheet = xf[sheet_name]\n",
    "\n",
    "    firstrow = 2\n",
    "    col = 1\n",
    "    fundname = read_column(sheet, firstrow, col)\n",
    "    col = 2\n",
    "    founded = read_column(sheet, firstrow, col)\n",
    "    col = 3\n",
    "    action_type = read_column(sheet, firstrow, col)\n",
    "    col = 4\n",
    "    date = read_column(sheet, firstrow, col)\n",
    "    col = 7\n",
    "    source = read_column(sheet, firstrow, col)\n",
    "\n",
    "    rawdata = DataFrame(fundname = fundname, founded = founded, \n",
    "            action_type = action_type, date = date, source = source)\n",
    "\n",
    "    return rawdata\n",
    "end\n",
    "\n",
    "function rawdata_merge(xf)\n",
    "    sheet_name = \"Merge\"\n",
    "    sheet = xf[sheet_name]\n",
    "\n",
    "    firstrow = 1\n",
    "    col = 1\n",
    "    fundname = read_column(sheet, firstrow, col)\n",
    "    col = 2\n",
    "    merged_fundname = read_column(sheet, firstrow, col)\n",
    "\n",
    "    rawdata = DataFrame(fundname = fundname, merged_fundname = merged_fundname)\n",
    "    return rawdata\n",
    "end\n",
    "\n",
    "\n",
    "path = \"skjölin frá Birgi/Files/Merged_funds.xlsx\"\n",
    "xf = XLSX.readxlsx(path)\n",
    "fund_history = rawdata_history(xf)\n",
    "\n",
    "me = XLSX.readxlsx(path)\n",
    "merge_history = rawdata_merge(me)\n",
    "\n",
    "for row in eachrow(fund_history)\n",
    "    reg_string = \"\"\n",
    "    fund_id = -100\n",
    "    \n",
    "    for reg in regex_key\n",
    "        if !isnothing(match(reg, row.fundname))\n",
    "            reg_string = string(reg)[3:end-1]\n",
    "            result = execute(conn, \"SELECT fund_id FROM fund WHERE regex_keyword = '$reg_string' or fund_name = '$(row.fundname)'\") |> DataFrame\n",
    "            if size(result,1) == 0\n",
    "                error(\"Fann ekki fund_id í gagnagrunni fyrir : $reg_string, fund_name er : $(row.fundname)\")\n",
    "            end\n",
    "            fund_id = result[1,1]\n",
    "            break\n",
    "        end\n",
    "    end\n",
    "\n",
    "    if fund_id == -100\n",
    "        error(\"no fund_id found for: $(row.fundname)\")\n",
    "    else\n",
    "        if row.founded == \"NULL\"\n",
    "            founded_str = \"NULL\"\n",
    "        else\n",
    "            founded_str = \"'$(row.founded)'\"\n",
    "        end\n",
    "\n",
    "        if row.source == \"NULL\"\n",
    "            source_str = \"NULL\"\n",
    "        else\n",
    "            source_str = \"'$(row.source)'\"\n",
    "        end\n",
    "        destfund_id = -100\n",
    "        destfund_name = \"-\"\n",
    "        if row.action_type == \"A\"\n",
    "            destfund_id = fund_id\n",
    "        elseif row.action_type == \"M\"\n",
    "            fundname = row.fundname\n",
    "            for row in 1:size(merge_history, 1)\n",
    "                if fundname == merge_history[row, 1]\n",
    "                    destfund_name = merge_history[row, 2]\n",
    "                    for reg in regex_key\n",
    "                        if !isnothing(match(reg,destfund_name))\n",
    "                            reg_string = string(reg)[3:end-1]\n",
    "                            result = execute(conn, \"SELECT fund_id FROM fund WHERE regex_keyword = '$reg_string' or fund_name = '$(destfund_name)'\") |> DataFrame\n",
    "                            if size(result,1) == 0\n",
    "                                error(\"Fann ekki fund_id í gagnagrunni fyrir : $reg_string, fund_name er : $(destfund_name)\")\n",
    "                            end\n",
    "                            destfund_id = result[1,1]\n",
    "                            break\n",
    "                        end\n",
    "                    end\n",
    "                    break\n",
    "                end\n",
    "            end\n",
    "            \n",
    "        else\n",
    "            destfund_id = \"NULL\"\n",
    "        end\n",
    "\n",
    "        if destfund_id == -100\n",
    "            error(\"fundum ekki destination fund, $fundname, $destfund_name\")\n",
    "        end\n",
    "\n",
    "        result = execute(conn, \"SELECT * FROM fundhistory WHERE origin_id = $(fund_id) AND date = '$(row.date)' AND action_type = '$(row.action_type)' AND founded = $founded_str AND source = $source_str\") |> DataFrame\n",
    "        if size(result,1) == 0\n",
    "            sql = \"INSERT INTO public.fundhistory(origin_id, destination_id, date, action_type, founded, source) VALUES ($(fund_id), $destfund_id, '$(row.date)', '$(row.action_type)', $founded_str, $source_str);\"\n",
    "            execute(conn, sql)\n",
    "        end\n",
    "    end\n",
    "end\n",
    " \n",
    "\n"
   ]
  },
  {
   "cell_type": "code",
   "execution_count": null,
   "id": "1941f01d",
   "metadata": {},
   "outputs": [],
   "source": []
  }
 ],
 "metadata": {
  "kernelspec": {
   "display_name": "Julia 1.8.5",
   "language": "julia",
   "name": "julia-1.8"
  },
  "language_info": {
   "file_extension": ".jl",
   "mimetype": "application/julia",
   "name": "julia",
   "version": "1.8.5"
  }
 },
 "nbformat": 4,
 "nbformat_minor": 5
}

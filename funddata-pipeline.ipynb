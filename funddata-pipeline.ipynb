{
 "cells": [
  {
   "cell_type": "markdown",
   "source": [
    "## Create tables for pension funds and their divisions\n",
    "\n",
    "Create a database for pension funds. Start with creating a table for the funds themselves. The funds table has fundid, fundname, shortname and a regex column, representing a regular expression that can be used to determine if a string corresponds to that particular fund.\n",
    "\n",
    "The second table is the subfund, or department or division of a fund. It has the columns subfundid, fundid, subfundname, shortname, subfundtype (shared or private), and regex.\n",
    "\n",
    "Start by collecting the values from the latest excel file from FME. The funds are listed conveniently there."
   ],
   "metadata": {
    "collapsed": false
   }
  },
  {
   "cell_type": "code",
   "execution_count": null,
   "outputs": [],
   "source": [
    "#Gera funds töflu\n",
    "using XLSX, DataFrames\n",
    "\n",
    "path = \"./skjölin frá Birgi/Files/Arsreikningabok-2021.xlsx\"\n",
    "\n",
    "xf = XLSX.readxlsx(path)\n",
    "\n",
    "#Return the values in a column, starting in first row and until first empty cell occurs\n",
    "function read_column(sheet, firstrow, col)\n",
    "    res = []\n",
    "    row = firstrow\n",
    "    while !ismissing(sheet[row,col])\n",
    "        push!(res,sheet[row,col])\n",
    "        row+=1\n",
    "    end\n",
    "    return res\n",
    "end\n",
    "\n",
    "sheet_name = \"Gögn\"\n",
    "\n",
    "sheet = xf[sheet_name]\n",
    "firstrow = 2\n",
    "col = 2\n",
    "shortname = read_column(sheet, firstrow, col)\n",
    "col = 3\n",
    "fundname = read_column(sheet, firstrow, col)\n",
    "col = 4\n",
    "subfundname = read_column(sheet, firstrow, col)\n",
    "col = 5\n",
    "subfundtype = read_column(sheet, firstrow, col)\n",
    "col = 1\n",
    "fullname = read_column(sheet, firstrow, col)\n",
    "rawdata = DataFrame(fundname = fundname, shortname = shortname,\n",
    "        subfundname = subfundname,subfundtype = subfundtype, fullname = fullname)"
   ],
   "metadata": {
    "collapsed": false
   }
  },
  {
   "cell_type": "code",
   "execution_count": null,
   "outputs": [],
   "source": [
    "using LibPQ, DataFrames\n",
    "\n",
    "file = open(\"login_for_sql.txt\", \"r\")\n",
    "# Read the data from the file into a matrix\n",
    "username = readline(file)\n",
    "pass = readline(file)\n",
    "# Close the file\n",
    "close(file)\n",
    "\n",
    "conn = LibPQ.Connection(\"dbname=Symmetria user=$username password=$pass\")\n",
    "\n",
    "result = execute(conn, \"SELECT * FROM fund\") |> DataFrame\n",
    "\n",
    "execute(conn, \"BEGIN;\")\n",
    "\n",
    "LibPQ.load!(\n",
    "    (fund_name = funds.fundname, short_name = funds.shortname,regex_keyword=funds.regexp,\n",
    "        founded = fill(missing,nrow(funds))),\n",
    "    conn,\n",
    "    \"INSERT INTO fund (fund_name, short_name, regex_keyword, founded) VALUES (\\$1, \\$2,\\$3,\\$4);\",\n",
    ")\n",
    "\n",
    "execute(conn, \"COMMIT;\")"
   ],
   "metadata": {
    "collapsed": false
   }
  }
 ],
 "metadata": {
  "kernelspec": {
   "display_name": "Julia 1.8.5",
   "language": "julia",
   "name": "julia-1.8"
  },
  "language_info": {
   "file_extension": ".jl",
   "mimetype": "application/julia",
   "name": "julia",
   "version": "1.8.5"
  }
 },
 "nbformat": 4,
 "nbformat_minor": 5
}
